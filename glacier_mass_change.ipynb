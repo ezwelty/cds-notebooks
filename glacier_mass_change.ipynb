{
 "cells": [
  {
   "attachments": {},
   "cell_type": "markdown",
   "metadata": {},
   "source": [
    "# Explore `glacier_mass_change`\n",
    "\n",
    "Run this notebook via free cloud platforms:\n",
    "\n",
    "[![Colab](https://colab.research.google.com/assets/colab-badge.svg)](https://colab.research.google.com/github/ezwelty/cds-notebooks/blob/main/glacier_mass_change.ipynb)"
   ]
  },
  {
   "attachments": {},
   "cell_type": "markdown",
   "metadata": {},
   "source": [
    "## Install and import packages"
   ]
  },
  {
   "cell_type": "code",
   "execution_count": null,
   "metadata": {},
   "outputs": [],
   "source": [
    "# Install cartopy (specific to Colab)\n",
    "!pip install --no-binary shapely shapely --force\n",
    "!pip install cartopy"
   ]
  },
  {
   "cell_type": "code",
   "execution_count": 12,
   "metadata": {},
   "outputs": [],
   "source": [
    "# Standard libraries\n",
    "import pathlib\n",
    "import urllib.request\n",
    "import zipfile\n",
    "\n",
    "# Extra libraries\n",
    "import cartopy.crs\n",
    "import matplotlib.pyplot\n",
    "import xarray"
   ]
  },
  {
   "attachments": {},
   "cell_type": "markdown",
   "metadata": {},
   "source": [
    "## Download data\n",
    "\n",
    "Since the data is not yet available via the Copernicus [Climate Data Store (CDS) API](https://cds.climate.copernicus.eu/api-how-to), we use a static version stored locally. All we have to do is unzip it."
   ]
  },
  {
   "cell_type": "code",
   "execution_count": 13,
   "metadata": {},
   "outputs": [],
   "source": [
    "pathlib.Path('temp').mkdir(exist_ok=True)\n",
    "url = 'https://github.com/ezwelty/cds-notebooks/raw/main/data/C3S2_mass-change-product_version-wgms-fog-2022-09_updatedMay17.zip'\n",
    "path = 'temp/C3S2_mass-change-product_version-wgms-fog-2022-09_updatedMay17.zip'\n",
    "\n",
    "urllib.request.urlretrieve(url, path)\n",
    "with zipfile.ZipFile(path, 'r') as file:\n",
    "    file.extractall('temp')"
   ]
  },
  {
   "attachments": {},
   "cell_type": "markdown",
   "metadata": {},
   "source": [
    "## Read and inspect data\n",
    "\n",
    "The data are formatted as multiple netCDF4 files, one for each year. They can be read as a single dataset using [`xarray`](https://docs.xarray.dev)."
   ]
  },
  {
   "cell_type": "code",
   "execution_count": null,
   "metadata": {},
   "outputs": [],
   "source": [
    "ds = xarray.open_mfdataset('temp/C3S2_mass-change-product_version-wgms-fog-2022-09_updatedMay17/*.nc4')\n",
    "ds"
   ]
  },
  {
   "attachments": {},
   "cell_type": "markdown",
   "metadata": {},
   "source": [
    "## Plot map of mass change for the most recent year\n",
    "\n",
    "We use [`matplotlib`](https://matplotlib.org/) and [`cartopy`](https://scitools.org.uk/cartopy/docs/latest) to plot the mean and uncertainty of the global mass change for each year."
   ]
  },
  {
   "cell_type": "code",
   "execution_count": null,
   "metadata": {},
   "outputs": [],
   "source": [
    "# Create a map with a plate carrée projection\n",
    "figure = matplotlib.pyplot.figure(figsize=(12, 8))\n",
    "axis = matplotlib.pyplot.axes(projection=cartopy.crs.PlateCarree())\n",
    "\n",
    "# Add latitude, longitude gridlines\n",
    "axis.gridlines(draw_labels=True, alpha=0.5, linestyle=':')\n",
    "\n",
    "# Add coastlines\n",
    "axis.coastlines(color='lightgrey')\n",
    "\n",
    "# Plot mass change with a red (loss) – blue (gain) colormap on a log scale\n",
    "im = matplotlib.pyplot.pcolormesh(\n",
    "    ds['lon'],\n",
    "    ds['lat'],\n",
    "    ds['Glacier'][-1],\n",
    "    cmap='RdBu',\n",
    "    norm=matplotlib.colors.SymLogNorm(linthresh=0.05)\n",
    ")\n",
    "\n",
    "# Add a colourbar\n",
    "cbar = matplotlib.pyplot.colorbar(im, fraction=0.025, pad=0.05, label='Glacier mass change (Gt)')"
   ]
  },
  {
   "attachments": {},
   "cell_type": "markdown",
   "metadata": {},
   "source": [
    "## Plot time series of global mass change\n",
    "\n",
    "### Compute mean of global change\n",
    "\n",
    "The global mass change is the sum of the mass changes reported for each spatial grid cell. We compute it by summing mass change across the latitude (`lat`) and longitude (`lon`) dimensions."
   ]
  },
  {
   "cell_type": "code",
   "execution_count": null,
   "metadata": {},
   "outputs": [],
   "source": [
    "global_change_mean = ds.sum(dim=['lat', 'lon'])['Glacier']"
   ]
  },
  {
   "attachments": {},
   "cell_type": "markdown",
   "metadata": {},
   "source": [
    "### Compute standard deviation of global change\n",
    "\n",
    "If we assume that the mass changes for which we computed the sum above are uncorrelated, the standard deviation of their sum is the square root of the sum of the squares of their standard deviatons:\n",
    "\n",
    "$\n",
    "f = \\textstyle\\sum_i m_i \\\\\n",
    "\\sigma_f = \\sqrt {\\textstyle\\sum_i \\sigma_i^2}\n",
    "$\n",
    "\n",
    "See [Wikipedia: Propagation of uncertainty](https://en.wikipedia.org/wiki/Propagation_of_uncertainty) for more information."
   ]
  },
  {
   "cell_type": "code",
   "execution_count": null,
   "metadata": {},
   "outputs": [],
   "source": [
    "global_change_std = (ds['Uncertainty'] ** 2).sum(dim=['lat', 'lon']) ** 0.5"
   ]
  },
  {
   "attachments": {},
   "cell_type": "markdown",
   "metadata": {},
   "source": [
    "### Plot timeseries\n",
    "\n",
    "We use [`matplotlib`](https://matplotlib.org/) to plot the mean and uncertainty of the global mass change for each year."
   ]
  },
  {
   "cell_type": "code",
   "execution_count": null,
   "metadata": {},
   "outputs": [],
   "source": [
    "# Configure the figure\n",
    "figure, axis = matplotlib.pyplot.subplots(1, 1, figsize=(9, 6))\n",
    "axis.set_ylabel('Annual mass change (Gt)', fontsize=12)\n",
    "axis.set_xlabel('Year', fontsize=12)\n",
    "\n",
    "# Plot a horizontal line at 0 change\n",
    "axis.axhline(y=0, alpha=0.5, linestyle=':', color='gray')\n",
    "\n",
    "# Plot the uncertainty as 3 standard deviations below and above the mean\n",
    "axis.fill_between(\n",
    "    x=ds['time'],\n",
    "    y1=global_change_mean - global_change_std * 3,\n",
    "    y2=global_change_mean + global_change_std * 3,\n",
    "    color='lightgray'\n",
    ")\n",
    "\n",
    "# Plot the mean as a line\n",
    "axis.plot(\n",
    "    ds['time'],\n",
    "    global_change_mean,\n",
    "    color='darkgray'\n",
    ")"
   ]
  }
 ],
 "metadata": {
  "kernelspec": {
   "display_name": "Python 3",
   "language": "python",
   "name": "python3"
  },
  "language_info": {
   "codemirror_mode": {
    "name": "ipython",
    "version": 3
   },
   "file_extension": ".py",
   "mimetype": "text/x-python",
   "name": "python",
   "nbconvert_exporter": "python",
   "pygments_lexer": "ipython3",
   "version": "3.11.2"
  },
  "orig_nbformat": 4
 },
 "nbformat": 4,
 "nbformat_minor": 2
}
